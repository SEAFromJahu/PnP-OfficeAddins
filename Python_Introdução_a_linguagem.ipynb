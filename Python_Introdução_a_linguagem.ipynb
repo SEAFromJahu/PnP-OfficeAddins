{
  "nbformat": 4,
  "nbformat_minor": 0,
  "metadata": {
    "colab": {
      "provenance": [],
      "collapsed_sections": [
        "yyde7Ju_dZZL",
        "-clsXDG6eFA3",
        "C0KUs9EcBOjK"
      ],
      "authorship_tag": "ABX9TyPZE9OGHc0ew3a3L7sMq3+Z",
      "include_colab_link": true
    },
    "kernelspec": {
      "name": "python3",
      "display_name": "Python 3"
    },
    "language_info": {
      "name": "python"
    }
  },
  "cells": [
    {
      "cell_type": "markdown",
      "metadata": {
        "id": "view-in-github",
        "colab_type": "text"
      },
      "source": [
        "<a href=\"https://colab.research.google.com/github/SEAFromJahu/PnP-OfficeAddins/blob/main/Python_Introdu%C3%A7%C3%A3o_a_linguagem.ipynb\" target=\"_parent\"><img src=\"https://colab.research.google.com/assets/colab-badge.svg\" alt=\"Open In Colab\"/></a>"
      ]
    },
    {
      "cell_type": "markdown",
      "source": [
        "# **Aula 01 - Introdução a Linguagem**"
      ],
      "metadata": {
        "id": "yyde7Ju_dZZL"
      }
    },
    {
      "cell_type": "markdown",
      "source": [
        "**Comentários**"
      ],
      "metadata": {
        "id": "HWTtV5MtMS0C"
      }
    },
    {
      "cell_type": "code",
      "source": [
        "'''\n",
        "  Este é um comentário\n",
        "  longo do\n",
        "  Python\n",
        "  By José Magalhães\n",
        "'''\n",
        "# Ou\n",
        "\"\"\"\n",
        "  Este é um comentário\n",
        "  longo do\n",
        "  Python\n",
        "\"\"\"\n",
        "# Esta linha imprime um texto.\n",
        "print(\"Olá mundo!\")"
      ],
      "metadata": {
        "id": "ptDI7mTjNB5w"
      },
      "execution_count": null,
      "outputs": []
    },
    {
      "cell_type": "markdown",
      "source": [
        "**Identação**"
      ],
      "metadata": {
        "id": "MEAH0CaPPp9v"
      }
    },
    {
      "cell_type": "code",
      "source": [
        "x = 0\n",
        "if x == 0:\n",
        "  print(\"x é igual a zero.\")\n",
        "print(\"Isso está fora do if.\")"
      ],
      "metadata": {
        "id": "XUum1EUDOGwE"
      },
      "execution_count": null,
      "outputs": []
    },
    {
      "cell_type": "markdown",
      "source": [
        "**Variáveis**"
      ],
      "metadata": {
        "id": "u8IB2IrARhZR"
      }
    },
    {
      "cell_type": "code",
      "source": [
        "idade = 32\n",
        "peso = 65.4\n",
        "nome = \"José de Sousa Magalhães\"\n",
        "situacao = True\n",
        "situacao2 = False\n",
        "print(situacao)\n",
        "print(situacao2)\n",
        "print(idade)\n",
        "print(peso)\n",
        "print(nome)\n"
      ],
      "metadata": {
        "id": "9s6fmbIaRg9S",
        "colab": {
          "base_uri": "https://localhost:8080/"
        },
        "outputId": "aa606415-76a9-4595-9690-520784a3f697"
      },
      "execution_count": null,
      "outputs": [
        {
          "output_type": "stream",
          "name": "stdout",
          "text": [
            "True\n",
            "False\n",
            "32\n",
            "65.4\n",
            "José de Sousa Magalhães\n"
          ]
        }
      ]
    },
    {
      "cell_type": "markdown",
      "source": [
        "**Tipos de Dados**"
      ],
      "metadata": {
        "id": "7ANLj2rJT6fX"
      }
    },
    {
      "cell_type": "code",
      "source": [
        "idade = 32\n",
        "peso = 65.4\n",
        "nome = \"José Magalhães\"\n",
        "situacao = True\n",
        "print(\"idade:\", type(idade))\n",
        "print(\"peso: \",type(peso))\n",
        "print(\"nome: \",type(nome)) # <- String\n",
        "print(\"situacao: \",type(situacao)) # <- Booleana"
      ],
      "metadata": {
        "id": "WNKiJ4xHT4lV"
      },
      "execution_count": null,
      "outputs": []
    },
    {
      "cell_type": "markdown",
      "source": [
        "**Prática Proposta 01**"
      ],
      "metadata": {
        "id": "YssJ8TbmWc7V"
      }
    },
    {
      "cell_type": "code",
      "source": [
        "\"\"\"\n",
        "Aqui temos as variáveis\n",
        "com nomes de animais.\n",
        "quantidade e peso de cada animal.\n",
        "\"\"\"\n",
        "# Tipos de animal\n",
        "na11 = \"gato\"\n",
        "na21 = \"rato\"\n",
        "na31 = \"cavalo\"\n",
        "na41 =\"urubu\"\n",
        "# Quantidade de animais\n",
        "na12 = 1\n",
        "na22 = 20\n",
        "na32 = 1\n",
        "na42 = 10\n",
        "# Peso do animal\n",
        "na13= 3.2\n",
        "na23 =0.25\n",
        "na33 = 210.8\n",
        "na43 = 2.7\n",
        "# True = Vacinado, False não Vacinado\n",
        "na14 = True\n",
        "na24 = True\n",
        "na34 = True\n",
        "na44 = True"
      ],
      "metadata": {
        "id": "_tzHb60CWZZX"
      },
      "execution_count": null,
      "outputs": []
    },
    {
      "cell_type": "markdown",
      "source": [
        "# **Aula 02 - Manipulação de Dados**"
      ],
      "metadata": {
        "id": "-clsXDG6eFA3"
      }
    },
    {
      "cell_type": "markdown",
      "source": [
        "**Saída de Dados em Python**"
      ],
      "metadata": {
        "id": "u2u8ypvIeUFe"
      }
    },
    {
      "cell_type": "code",
      "source": [
        "print(\"Olá Mundo!\")\n",
        "nome = \"José Magalhães\"\n",
        "idade = 30\n",
        "peso = 65.4"
      ],
      "metadata": {
        "id": "DeYznlgPfYMx",
        "colab": {
          "base_uri": "https://localhost:8080/"
        },
        "outputId": "8b225703-46c7-4840-dd97-b16f39d9f7e5"
      },
      "execution_count": null,
      "outputs": [
        {
          "output_type": "stream",
          "name": "stdout",
          "text": [
            "Olá Mundo!\n"
          ]
        }
      ]
    },
    {
      "cell_type": "code",
      "source": [
        "print(\"O nome do professor é\",nome, \"ele tem\",idade, \"anos de idade ele pesa\", peso,\"kg.\")\n",
        "print(\"14\", \"09\", \"1956\", sep=\"/\")\n",
        "print(\"1956\", \"09\", \"14\", sep=\"-\")\n",
        "print('B','n','n','s', sep='a')"
      ],
      "metadata": {
        "id": "jQJ9PpbifvEc"
      },
      "execution_count": null,
      "outputs": []
    },
    {
      "cell_type": "markdown",
      "source": [
        "**Entrada de Dados em Python**"
      ],
      "metadata": {
        "id": "Ura01JSlxO1P"
      }
    },
    {
      "cell_type": "code",
      "source": [
        "nome = input(\"Digite seu nome: \") # String\n",
        "idade= int(input(\"Digite sua idade: \")) # Inteiro\n",
        "peso = float(input(\"Digite seu peso: \")) # Float\n",
        "print(\"Oká professor\",nome, \"você tem\",idade, \"anos de idade e pesa\", peso,\"kg.\")"
      ],
      "metadata": {
        "id": "Bqh5N4rDxNRn"
      },
      "execution_count": null,
      "outputs": []
    },
    {
      "cell_type": "markdown",
      "source": [
        "**Operadores Aritiméticos**"
      ],
      "metadata": {
        "id": "ysM4zcqPzqlO"
      }
    },
    {
      "cell_type": "code",
      "source": [
        "# +, -, /, *, //, %\n",
        "a = 4\n",
        "b = 4\n",
        "c = a/b\n",
        "d = a//b\n",
        "e = a%b\n",
        "print(c)\n",
        "print(d)\n",
        "print(e)\n",
        "print(a+b)      # <- Adição\n",
        "print(a-b)      # <- Subtração\n",
        "print(a/b)      # <- Divisão\n",
        "print(a*b)      # <- Multiplicação\n",
        "print(a**b)     # <- Potenciação\n",
        "print(a//b)     # <- Divisão Inteira\n",
        "print(a%b)      # <- Resto\n",
        "print(type(c))  # <- float\n",
        "print(type(d))  # <- int\n",
        "print(type(e))  # <- int"
      ],
      "metadata": {
        "id": "zB-p9LWFzpzW"
      },
      "execution_count": null,
      "outputs": []
    },
    {
      "cell_type": "markdown",
      "source": [
        "**Prática Proposta 02**"
      ],
      "metadata": {
        "id": "ds-lHcjg9cZH"
      }
    },
    {
      "cell_type": "code",
      "source": [
        "nome = input(\"Digite seu nome: \")\n",
        "altura = float(input(\"Digite sua altura: \"))\n",
        "cpf = int(input(\"Digite seu cpf: \"))\n",
        "print(\"Olá\", nome, \"cpf\", cpf, \"você ainda tem\", altura,\"m de altura\")"
      ],
      "metadata": {
        "id": "uigaf2MY9Zld"
      },
      "execution_count": null,
      "outputs": []
    },
    {
      "cell_type": "markdown",
      "source": [
        "# **Aula 03 - Estruturas de Condição**"
      ],
      "metadata": {
        "id": "C0KUs9EcBOjK"
      }
    },
    {
      "cell_type": "markdown",
      "source": [
        "**Operadores de Relação e Condição**"
      ],
      "metadata": {
        "id": "ZBUbjje-D7_p"
      }
    },
    {
      "cell_type": "code",
      "source": [
        "# Operadores de Igualdade\n",
        "# ==, !=\n",
        "# Operadores de Comparação (Relacionais)\n",
        "# <, >, <=, >=\n",
        "# Operadores Lógicos\n",
        "# and, or, not\n",
        "num = 100 == 100\n",
        "print(num)"
      ],
      "metadata": {
        "colab": {
          "base_uri": "https://localhost:8080/"
        },
        "id": "g2tNjDAXBgAI",
        "outputId": "f99b6736-e623-435a-dd48-48a15497cf70"
      },
      "execution_count": null,
      "outputs": [
        {
          "output_type": "stream",
          "name": "stdout",
          "text": [
            "True\n"
          ]
        }
      ]
    },
    {
      "cell_type": "markdown",
      "source": [
        "**Comando if else**"
      ],
      "metadata": {
        "id": "zByB2dskG90m"
      }
    },
    {
      "cell_type": "code",
      "source": [
        "numero = 10\n",
        "if numero == 10: # True\n",
        "  print(\"Este número é igual a 10!\")\n",
        "else: # False\n",
        "  print(\"Este número não é igual a 10!\")"
      ],
      "metadata": {
        "id": "s1798-kBG9MO"
      },
      "execution_count": null,
      "outputs": []
    },
    {
      "cell_type": "markdown",
      "source": [
        "**Comando elif**"
      ],
      "metadata": {
        "id": "krEWMNX1ICNI"
      }
    },
    {
      "cell_type": "code",
      "source": [
        "numero = 15\n",
        "if numero == 10: # True\n",
        "  print(\"Este número é igual a 10!\")\n",
        "elif numero == 11: # True\n",
        "  print(\"Este número é igual a 11!\")\n",
        "elif numero == 12: # True\n",
        "  print(\"Este número é igual a 12!\")\n",
        "elif numero == 13: # True\n",
        "  print(\"Este número é igual a 13!\")\n",
        "else: # True\n",
        "  print(\"Este número não é igual a 10,11,12 ou 13!\")"
      ],
      "metadata": {
        "colab": {
          "base_uri": "https://localhost:8080/"
        },
        "id": "ElCe7DLHIBth",
        "outputId": "6ed24b8c-8a44-41cc-e0b5-51b96581d77f"
      },
      "execution_count": null,
      "outputs": [
        {
          "output_type": "stream",
          "name": "stdout",
          "text": [
            "Este número não é igual a 10,11,12 ou 13!\n"
          ]
        }
      ]
    },
    {
      "cell_type": "markdown",
      "source": [
        "**Prática Proposta 03**"
      ],
      "metadata": {
        "id": "x6H82bNoJmME"
      }
    },
    {
      "cell_type": "code",
      "source": [
        "numero = 16\n",
        "if numero == 15: # True\n",
        "  print(\"Este número é igual a 15!\")\n",
        "elif numero < 15: # True\n",
        "  print(\"Este número é menor que 15!\")\n",
        "else: # True\n",
        "  print(\"Este número é maior que 15!\")"
      ],
      "metadata": {
        "colab": {
          "base_uri": "https://localhost:8080/"
        },
        "id": "8P7_ZPt7Jljt",
        "outputId": "733676a4-d577-40b2-c118-95863dd604e1"
      },
      "execution_count": null,
      "outputs": [
        {
          "output_type": "stream",
          "name": "stdout",
          "text": [
            "Este número é maior que 15!\n"
          ]
        }
      ]
    },
    {
      "cell_type": "markdown",
      "source": [
        "# **Aula 04 - Estruturas de Controle de Fluxo**"
      ],
      "metadata": {
        "id": "WaZyu0kELd4Z"
      }
    },
    {
      "cell_type": "markdown",
      "source": [
        "**Laço de Repetição: While**\n"
      ],
      "metadata": {
        "id": "ogb4PlogMNSh"
      }
    },
    {
      "cell_type": "code",
      "source": [
        "i = 1\n",
        "valores_atribuidos_ai = \"\"\n",
        "while i <= 10:\n",
        "  valores_atribuidos_ai += f\"{str(i)} \"\n",
        "  i += 1\n",
        "print(valores_atribuidos_ai)"
      ],
      "metadata": {
        "id": "5hrLz2IFMeV_"
      },
      "execution_count": null,
      "outputs": []
    },
    {
      "cell_type": "markdown",
      "source": [
        "**Laço de Repetição: for**"
      ],
      "metadata": {
        "id": "FnvBpNNDWE3F"
      }
    },
    {
      "cell_type": "code",
      "source": [
        "import time\n",
        "for i in \"Python\":\n",
        "  print(i, end= \"\")\n",
        "  time.sleep(0.3)\n",
        "print()             # <- Mudar para linha de baixo\n",
        "num = [ 1,3,5,7,9,11,13,15,17,19,21]  # <- Lista\n",
        "for i in num:\n",
        "  print(i,end=\" \")\n",
        "  time.sleep(0.75)"
      ],
      "metadata": {
        "id": "t4KTliBKWRv6"
      },
      "execution_count": null,
      "outputs": []
    },
    {
      "cell_type": "markdown",
      "source": [
        "**Laço de Repetição: for range**"
      ],
      "metadata": {
        "id": "aKAJKBBGWYRT"
      }
    },
    {
      "cell_type": "code",
      "source": [
        "for i in range(10):\n",
        "  print(i+1, end=\" \") # <- \"i+1\" para começar em 1 2 ...\n",
        "print(\" \", end=\" \")\n",
        "for j in range(10, 0, -1): # <- \"j\" para começar em 10 9 ... até 0\n",
        "  print(j, end=\" \")"
      ],
      "metadata": {
        "id": "dKug_nvGWXeh"
      },
      "execution_count": null,
      "outputs": []
    },
    {
      "cell_type": "markdown",
      "source": [
        "**Instrução Break e Continue**"
      ],
      "metadata": {
        "id": "fsF41A4LfQVV"
      }
    },
    {
      "cell_type": "code",
      "source": [
        "# Break\n",
        "for i in range(1, 11):\n",
        "  if i == 5:\n",
        "    break\n",
        "  print(i, end=\" \")\n",
        "# Continue\n",
        "print()\n",
        "i = 0\n",
        "while i < 10:\n",
        "  i += 1\n",
        "  if i %  2 == 0:\n",
        "    continue\n",
        "  print(i, end=\" \")\n",
        "# ...\n",
        "print()\n",
        "for i in range(1, 11):\n",
        "  if i % 2 != 0:\n",
        "    continue\n",
        "  print(i, end= \" \")\n",
        "#"
      ],
      "metadata": {
        "id": "k4_YqZsYfPE8"
      },
      "execution_count": null,
      "outputs": []
    },
    {
      "cell_type": "markdown",
      "source": [
        "**Prática Proposta 04**"
      ],
      "metadata": {
        "id": "N7JQwEercSM7"
      }
    },
    {
      "cell_type": "code",
      "source": [
        "for i in range(0,16,3):\n",
        "  if i % 3 == 0:\n",
        "    print(i, end=\" \")"
      ],
      "metadata": {
        "id": "4AlAFgdkcQOE",
        "colab": {
          "base_uri": "https://localhost:8080/"
        },
        "outputId": "8a84893d-bf03-4753-a136-04aeb9c42d88"
      },
      "execution_count": null,
      "outputs": [
        {
          "output_type": "stream",
          "name": "stdout",
          "text": [
            "0 3 6 9 12 15 "
          ]
        }
      ]
    },
    {
      "cell_type": "markdown",
      "source": [
        "# **Aula 05 - Strings**"
      ],
      "metadata": {
        "id": "pKbV1cRjjpDU"
      }
    },
    {
      "cell_type": "markdown",
      "source": [
        "**Introdução a Strings**"
      ],
      "metadata": {
        "id": "51eKxmgokBmg"
      }
    },
    {
      "cell_type": "code",
      "source": [
        "nome = \"José de Sousa Magalhães\"\n",
        "nome1 = '''\n",
        "  Esta é uma String Longa\n",
        "  contendo informações sobre\n",
        "  Python.\n",
        "'''\n",
        "nome2 = \"\"\"\n",
        "    Esta é outra String Longa\n",
        "    contendo informações sobre\n",
        "    Python.\n",
        "\"\"\"\n",
        "print(type(nome), \"\\n\\n\", nome, \"\\n\",nome1,nome2)"
      ],
      "metadata": {
        "id": "sgcAFRCYjzrh"
      },
      "execution_count": null,
      "outputs": []
    },
    {
      "cell_type": "markdown",
      "source": [
        "**Propriedades das Strings**"
      ],
      "metadata": {
        "id": "FahFvfOSn_OH"
      }
    },
    {
      "cell_type": "code",
      "source": [
        "l = 'lista de letras'\n",
        "data = '14/09/1956'\n",
        "# Tamanho da string\n",
        "tamanho = len(l)\n",
        "print(tamanho)\n",
        "# Split da string\n",
        "lista = data.split('/')\n",
        "print(lista)\n",
        "# Substituição na string\n",
        "nova_data = data.replace('/','-')\n",
        "print(nova_data)"
      ],
      "metadata": {
        "id": "veaqCG_an-YF"
      },
      "execution_count": null,
      "outputs": []
    },
    {
      "cell_type": "markdown",
      "source": [
        "**Fatiando Strings**"
      ],
      "metadata": {
        "id": "pYHv18a8thNc"
      }
    },
    {
      "cell_type": "code",
      "source": [
        "nome = 'Python'\n",
        "print('A String \"Python\" contém', len(nome),'caracteres')\n",
        "print('Sendo que o caracter de indece zero nome[0] =', nome[0], 'e o cararacter de indece cinco nome[5] =', nome[5])\n",
        "print('a) Python:', nome[0:6:1])\n",
        "print('b) ytho:', nome[1:5])\n",
        "print('c) n:',nome[-1])\n",
        "print('d) nohtyP:', nome[-1:-7:-1])"
      ],
      "metadata": {
        "id": "_PZppE3Rtoi6"
      },
      "execution_count": null,
      "outputs": []
    },
    {
      "cell_type": "markdown",
      "source": [
        "**Comparando Strings**"
      ],
      "metadata": {
        "id": "z59UDTyZ_aTh"
      }
    },
    {
      "cell_type": "code",
      "source": [
        "from re import ASCII\n",
        "print(\"a\" == \"a\",\"a\" == \"b\",\"a\" != \"b\",\"a\" != \"a\")\n",
        "print(\"a\" <  \"a\",\"a\" <  \"b\",\"a\" >  \"b\", \"a\" > \"a\")\n",
        "print(\"Valor\\tHexa\\tCaractere\")\n",
        "for c in range(ASCII):\n",
        "  print(c,'\\t', (hex(c)[2:]).upper() , '\\t' , chr(c))"
      ],
      "metadata": {
        "id": "O7FkM7KH_ZyC"
      },
      "execution_count": null,
      "outputs": []
    },
    {
      "cell_type": "markdown",
      "source": [
        "**Percorrendo Strings**"
      ],
      "metadata": {
        "id": "c6D5Ba4hLyxb"
      }
    },
    {
      "cell_type": "code",
      "source": [
        "nome = 'Python é legal.'\n",
        "# for\n",
        "for i in nome:\n",
        "  print(i, end='')\n",
        "\n",
        "# for/enumerate\n",
        "print()\n",
        "for i, v in enumerate(nome):\n",
        "  print(i,'\\b =', v, end= \", \")\n",
        "\n",
        "# while\n",
        "print()\n",
        "i = 0\n",
        "while i < len(nome):\n",
        "  if i < len(nome)-1:\n",
        "    print(nome[i],'\\b', end=', ')\n",
        "  else:\n",
        "     print(nome[i], end='')\n",
        "  i += 1\n",
        "\n",
        "#dowhile\n",
        "print()\n",
        "i = 0\n",
        "while True:\n",
        "  print(nome[i], end='')\n",
        "  i += 1\n",
        "  if i == len(nome):\n",
        "    break"
      ],
      "metadata": {
        "id": "2X4hBghLLz9E"
      },
      "execution_count": null,
      "outputs": []
    },
    {
      "cell_type": "markdown",
      "source": [
        "**Prática Proposta**"
      ],
      "metadata": {
        "id": "vMwEO6ibX_db"
      }
    },
    {
      "cell_type": "code",
      "source": [
        "mystr= []\n",
        "for carac  in range(65,91):\n",
        "  mystr.append(chr(carac))\n",
        "string = ' '.join(mystr)\n",
        "for i,v in enumerate(string):\n",
        "  print(i,'\\b =', v, end= \" \")\n",
        "novastring= string.replace(' ','-')\n",
        "print()\n",
        "print(novastring)"
      ],
      "metadata": {
        "id": "VGT6eC7GYELh"
      },
      "execution_count": null,
      "outputs": []
    }
  ]
}