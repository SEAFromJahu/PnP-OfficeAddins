{
  "nbformat": 4,
  "nbformat_minor": 0,
  "metadata": {
    "colab": {
      "provenance": [],
      "collapsed_sections": [
        "yyde7Ju_dZZL",
        "-clsXDG6eFA3",
        "C0KUs9EcBOjK",
        "WaZyu0kELd4Z",
        "pKbV1cRjjpDU",
        "LznsvlvGJyXS",
        "WC8ILFkiEWDK"
      ],
      "authorship_tag": "ABX9TyNSmac9KcCGG4Les4/6sQQn",
      "include_colab_link": true
    },
    "kernelspec": {
      "name": "python3",
      "display_name": "Python 3"
    },
    "language_info": {
      "name": "python"
    }
  },
  "cells": [
    {
      "cell_type": "markdown",
      "metadata": {
        "id": "view-in-github",
        "colab_type": "text"
      },
      "source": [
        "<a href=\"https://colab.research.google.com/github/SEAFromJahu/PnP-OfficeAddins/blob/main/Python_Introdu%C3%A7%C3%A3o_a_linguagem.ipynb\" target=\"_parent\"><img src=\"https://colab.research.google.com/assets/colab-badge.svg\" alt=\"Open In Colab\"/></a>"
      ]
    },
    {
      "cell_type": "markdown",
      "source": [
        "# **Aula 01 - Introdução a Linguagem**"
      ],
      "metadata": {
        "id": "yyde7Ju_dZZL"
      }
    },
    {
      "cell_type": "markdown",
      "source": [
        "**Comentários**"
      ],
      "metadata": {
        "id": "HWTtV5MtMS0C"
      }
    },
    {
      "cell_type": "code",
      "source": [
        "'''\n",
        "  Este é um comentário\n",
        "  longo do\n",
        "  Python\n",
        "  By José Magalhães\n",
        "'''\n",
        "# Ou\n",
        "\"\"\"\n",
        "  Este é um comentário\n",
        "  longo do\n",
        "  Python\n",
        "\"\"\"\n",
        "# Esta linha imprime um texto.\n",
        "print(\"Olá mundo!\")"
      ],
      "metadata": {
        "id": "ptDI7mTjNB5w"
      },
      "execution_count": null,
      "outputs": []
    },
    {
      "cell_type": "markdown",
      "source": [
        "**Identação**"
      ],
      "metadata": {
        "id": "MEAH0CaPPp9v"
      }
    },
    {
      "cell_type": "code",
      "source": [
        "x = 0\n",
        "if x == 0:\n",
        "  print(\"x é igual a zero.\")\n",
        "print(\"Isso está fora do if.\")"
      ],
      "metadata": {
        "id": "XUum1EUDOGwE"
      },
      "execution_count": null,
      "outputs": []
    },
    {
      "cell_type": "markdown",
      "source": [
        "**Variáveis**"
      ],
      "metadata": {
        "id": "u8IB2IrARhZR"
      }
    },
    {
      "cell_type": "code",
      "source": [
        "idade = 32\n",
        "peso = 65.4\n",
        "nome = \"José de Sousa Magalhães\"\n",
        "situacao = True\n",
        "situacao2 = False\n",
        "print(situacao)\n",
        "print(situacao2)\n",
        "print(idade)\n",
        "print(peso)\n",
        "print(nome)\n"
      ],
      "metadata": {
        "id": "9s6fmbIaRg9S"
      },
      "execution_count": null,
      "outputs": []
    },
    {
      "cell_type": "markdown",
      "source": [
        "**Tipos de Dados**"
      ],
      "metadata": {
        "id": "7ANLj2rJT6fX"
      }
    },
    {
      "cell_type": "code",
      "source": [
        "idade = 32\n",
        "peso = 65.4\n",
        "nome = \"José Magalhães\"\n",
        "situacao = True\n",
        "print(\"idade:\", type(idade))\n",
        "print(\"peso: \",type(peso))\n",
        "print(\"nome: \",type(nome)) # <- String\n",
        "print(\"situacao: \",type(situacao)) # <- Booleana"
      ],
      "metadata": {
        "id": "WNKiJ4xHT4lV"
      },
      "execution_count": null,
      "outputs": []
    },
    {
      "cell_type": "markdown",
      "source": [
        "**Prática Proposta 01**"
      ],
      "metadata": {
        "id": "YssJ8TbmWc7V"
      }
    },
    {
      "cell_type": "code",
      "source": [
        "\"\"\"\n",
        "Aqui temos as variáveis\n",
        "com nomes de animais.\n",
        "quantidade e peso de cada animal.\n",
        "\"\"\"\n",
        "# Tipos de animal\n",
        "na11 = \"gato\"\n",
        "na21 = \"rato\"\n",
        "na31 = \"cavalo\"\n",
        "na41 =\"urubu\"\n",
        "# Quantidade de animais\n",
        "na12 = 1\n",
        "na22 = 20\n",
        "na32 = 1\n",
        "na42 = 10\n",
        "# Peso do animal\n",
        "na13= 3.2\n",
        "na23 =0.25\n",
        "na33 = 210.8\n",
        "na43 = 2.7\n",
        "# True = Vacinado, False não Vacinado\n",
        "na14 = True\n",
        "na24 = True\n",
        "na34 = True\n",
        "na44 = True"
      ],
      "metadata": {
        "id": "_tzHb60CWZZX"
      },
      "execution_count": null,
      "outputs": []
    },
    {
      "cell_type": "markdown",
      "source": [
        "# **Aula 02 - Manipulação de Dados**"
      ],
      "metadata": {
        "id": "-clsXDG6eFA3"
      }
    },
    {
      "cell_type": "markdown",
      "source": [
        "**Saída de Dados em Python**"
      ],
      "metadata": {
        "id": "u2u8ypvIeUFe"
      }
    },
    {
      "cell_type": "code",
      "source": [
        "print(\"Olá Mundo!\")\n",
        "nome = \"José Magalhães\"\n",
        "idade = 30\n",
        "peso = 65.4"
      ],
      "metadata": {
        "id": "DeYznlgPfYMx"
      },
      "execution_count": null,
      "outputs": []
    },
    {
      "cell_type": "code",
      "source": [
        "print(\"O nome do professor é\",nome, \"ele tem\",idade, \"anos de idade ele pesa\", peso,\"kg.\")\n",
        "print(\"14\", \"09\", \"1956\", sep=\"/\")\n",
        "print(\"1956\", \"09\", \"14\", sep=\"-\")\n",
        "print('B','n','n','s', sep='a')"
      ],
      "metadata": {
        "id": "jQJ9PpbifvEc"
      },
      "execution_count": null,
      "outputs": []
    },
    {
      "cell_type": "markdown",
      "source": [
        "**Entrada de Dados em Python**"
      ],
      "metadata": {
        "id": "Ura01JSlxO1P"
      }
    },
    {
      "cell_type": "code",
      "source": [
        "nome = input(\"Digite seu nome: \") # String\n",
        "idade= int(input(\"Digite sua idade: \")) # Inteiro\n",
        "peso = float(input(\"Digite seu peso: \")) # Float\n",
        "print(\"Oká professor\",nome, \"você tem\",idade, \"anos de idade e pesa\", peso,\"kg.\")"
      ],
      "metadata": {
        "id": "Bqh5N4rDxNRn"
      },
      "execution_count": null,
      "outputs": []
    },
    {
      "cell_type": "markdown",
      "source": [
        "**Operadores Aritiméticos**"
      ],
      "metadata": {
        "id": "ysM4zcqPzqlO"
      }
    },
    {
      "cell_type": "code",
      "source": [
        "# +, -, /, *, //, %\n",
        "a = 4\n",
        "b = 4\n",
        "c = a/b\n",
        "d = a//b\n",
        "e = a%b\n",
        "print(c)\n",
        "print(d)\n",
        "print(e)\n",
        "print(a+b)      # <- Adição\n",
        "print(a-b)      # <- Subtração\n",
        "print(a/b)      # <- Divisão\n",
        "print(a*b)      # <- Multiplicação\n",
        "print(a**b)     # <- Potenciação\n",
        "print(a//b)     # <- Divisão Inteira\n",
        "print(a%b)      # <- Resto\n",
        "print(type(c))  # <- float\n",
        "print(type(d))  # <- int\n",
        "print(type(e))  # <- int"
      ],
      "metadata": {
        "id": "zB-p9LWFzpzW"
      },
      "execution_count": null,
      "outputs": []
    },
    {
      "cell_type": "markdown",
      "source": [
        "**Prática Proposta 02**"
      ],
      "metadata": {
        "id": "ds-lHcjg9cZH"
      }
    },
    {
      "cell_type": "code",
      "source": [
        "nome = input(\"Digite seu nome: \")\n",
        "altura = float(input(\"Digite sua altura: \"))\n",
        "cpf = int(input(\"Digite seu cpf: \"))\n",
        "print(\"Olá\", nome, \"cpf\", cpf, \"você ainda tem\", altura,\"m de altura\")"
      ],
      "metadata": {
        "id": "uigaf2MY9Zld"
      },
      "execution_count": null,
      "outputs": []
    },
    {
      "cell_type": "markdown",
      "source": [
        "# **Aula 03 - Estruturas de Condição**"
      ],
      "metadata": {
        "id": "C0KUs9EcBOjK"
      }
    },
    {
      "cell_type": "markdown",
      "source": [
        "**Operadores de Relação e Condição**"
      ],
      "metadata": {
        "id": "ZBUbjje-D7_p"
      }
    },
    {
      "cell_type": "code",
      "source": [
        "# Operadores de Igualdade\n",
        "# ==, !=\n",
        "# Operadores de Comparação (Relacionais)\n",
        "# <, >, <=, >=\n",
        "# Operadores Lógicos\n",
        "# and, or, not\n",
        "num = 100 == 100\n",
        "print(num)"
      ],
      "metadata": {
        "id": "g2tNjDAXBgAI"
      },
      "execution_count": null,
      "outputs": []
    },
    {
      "cell_type": "markdown",
      "source": [
        "**Comando if else**"
      ],
      "metadata": {
        "id": "zByB2dskG90m"
      }
    },
    {
      "cell_type": "code",
      "source": [
        "numero = 10\n",
        "if numero == 10: # True\n",
        "  print(\"Este número é igual a 10!\")\n",
        "else: # False\n",
        "  print(\"Este número não é igual a 10!\")"
      ],
      "metadata": {
        "id": "s1798-kBG9MO"
      },
      "execution_count": null,
      "outputs": []
    },
    {
      "cell_type": "markdown",
      "source": [
        "**Comando elif**"
      ],
      "metadata": {
        "id": "krEWMNX1ICNI"
      }
    },
    {
      "cell_type": "code",
      "source": [
        "numero = 15\n",
        "if numero == 10: # True\n",
        "  print(\"Este número é igual a 10!\")\n",
        "elif numero == 11: # True\n",
        "  print(\"Este número é igual a 11!\")\n",
        "elif numero == 12: # True\n",
        "  print(\"Este número é igual a 12!\")\n",
        "elif numero == 13: # True\n",
        "  print(\"Este número é igual a 13!\")\n",
        "else: # True\n",
        "  print(\"Este número não é igual a 10,11,12 ou 13!\")"
      ],
      "metadata": {
        "id": "ElCe7DLHIBth"
      },
      "execution_count": null,
      "outputs": []
    },
    {
      "cell_type": "markdown",
      "source": [
        "**Prática Proposta 03**"
      ],
      "metadata": {
        "id": "x6H82bNoJmME"
      }
    },
    {
      "cell_type": "code",
      "source": [
        "numero = 16\n",
        "if numero == 15: # True\n",
        "  print(\"Este número é igual a 15!\")\n",
        "elif numero < 15: # True\n",
        "  print(\"Este número é menor que 15!\")\n",
        "else: # True\n",
        "  print(\"Este número é maior que 15!\")"
      ],
      "metadata": {
        "id": "8P7_ZPt7Jljt"
      },
      "execution_count": null,
      "outputs": []
    },
    {
      "cell_type": "markdown",
      "source": [
        "# **Aula 04 - Estruturas de Controle de Fluxo**"
      ],
      "metadata": {
        "id": "WaZyu0kELd4Z"
      }
    },
    {
      "cell_type": "markdown",
      "source": [
        "**Laço de Repetição: While**\n"
      ],
      "metadata": {
        "id": "ogb4PlogMNSh"
      }
    },
    {
      "cell_type": "code",
      "source": [
        "i = 1\n",
        "valores_atribuidos_ai = \"\"\n",
        "while i <= 10:\n",
        "  valores_atribuidos_ai += f\"{str(i)} \"\n",
        "  i += 1\n",
        "print(valores_atribuidos_ai)"
      ],
      "metadata": {
        "id": "5hrLz2IFMeV_"
      },
      "execution_count": null,
      "outputs": []
    },
    {
      "cell_type": "markdown",
      "source": [
        "**Laço de Repetição: for**"
      ],
      "metadata": {
        "id": "FnvBpNNDWE3F"
      }
    },
    {
      "cell_type": "code",
      "source": [
        "import time\n",
        "for i in \"Python\":\n",
        "  print(i, end= \"\")\n",
        "  time.sleep(0.3)\n",
        "print()             # <- Mudar para linha de baixo\n",
        "num = [ 1,3,5,7,9,11,13,15,17,19,21]  # <- Lista\n",
        "for i in num:\n",
        "  print(i,end=\" \")\n",
        "  time.sleep(0.75)"
      ],
      "metadata": {
        "id": "t4KTliBKWRv6"
      },
      "execution_count": null,
      "outputs": []
    },
    {
      "cell_type": "markdown",
      "source": [
        "**Laço de Repetição: for range**"
      ],
      "metadata": {
        "id": "aKAJKBBGWYRT"
      }
    },
    {
      "cell_type": "code",
      "source": [
        "for i in range(10):\n",
        "  print(i+1, end=\" \") # <- \"i+1\" para começar em 1 2 ...\n",
        "print(\" \", end=\" \")\n",
        "for j in range(10, 0, -1): # <- \"j\" para começar em 10 9 ... até 0\n",
        "  print(j, end=\" \")"
      ],
      "metadata": {
        "id": "dKug_nvGWXeh"
      },
      "execution_count": null,
      "outputs": []
    },
    {
      "cell_type": "markdown",
      "source": [
        "**Instrução Break e Continue**"
      ],
      "metadata": {
        "id": "fsF41A4LfQVV"
      }
    },
    {
      "cell_type": "code",
      "source": [
        "# Break\n",
        "for i in range(1, 11):\n",
        "  if i == 5:\n",
        "    break\n",
        "  print(i, end=\" \")\n",
        "# Continue\n",
        "print()\n",
        "i = 0\n",
        "while i < 10:\n",
        "  i += 1\n",
        "  if i %  2 == 0:\n",
        "    continue\n",
        "  print(i, end=\" \")\n",
        "# ...\n",
        "print()\n",
        "for i in range(1, 11):\n",
        "  if i % 2 != 0:\n",
        "    continue\n",
        "  print(i, end= \" \")\n",
        "#"
      ],
      "metadata": {
        "id": "k4_YqZsYfPE8"
      },
      "execution_count": null,
      "outputs": []
    },
    {
      "cell_type": "markdown",
      "source": [
        "**Prática Proposta 04**"
      ],
      "metadata": {
        "id": "N7JQwEercSM7"
      }
    },
    {
      "cell_type": "code",
      "source": [
        "for i in range(0,16,3):\n",
        "  if i % 3 == 0:\n",
        "    print(i, end=\" \")"
      ],
      "metadata": {
        "id": "4AlAFgdkcQOE"
      },
      "execution_count": null,
      "outputs": []
    },
    {
      "cell_type": "markdown",
      "source": [
        "# **Aula 05 - Strings**"
      ],
      "metadata": {
        "id": "pKbV1cRjjpDU"
      }
    },
    {
      "cell_type": "markdown",
      "source": [
        "**Introdução a Strings**"
      ],
      "metadata": {
        "id": "51eKxmgokBmg"
      }
    },
    {
      "cell_type": "code",
      "source": [
        "nome = \"José de Sousa Magalhães\"\n",
        "nome1 = '''\n",
        "  Esta é uma String Longa\n",
        "  contendo informações sobre\n",
        "  Python.\n",
        "'''\n",
        "nome2 = \"\"\"\n",
        "    Esta é outra String Longa\n",
        "    contendo informações sobre\n",
        "    Python.\n",
        "\"\"\"\n",
        "print(type(nome), \"\\n\\n\", nome, \"\\n\",nome1,nome2)"
      ],
      "metadata": {
        "id": "sgcAFRCYjzrh"
      },
      "execution_count": null,
      "outputs": []
    },
    {
      "cell_type": "markdown",
      "source": [
        "**Propriedades das Strings**"
      ],
      "metadata": {
        "id": "FahFvfOSn_OH"
      }
    },
    {
      "cell_type": "code",
      "source": [
        "l = 'lista de letras'\n",
        "data = '14/09/1956'\n",
        "# Tamanho da string\n",
        "tamanho = len(l)\n",
        "print(tamanho)\n",
        "# Split da string\n",
        "lista = data.split('/')\n",
        "print(lista)\n",
        "# Substituição na string\n",
        "nova_data = data.replace('/','-')\n",
        "print(nova_data)"
      ],
      "metadata": {
        "id": "veaqCG_an-YF"
      },
      "execution_count": null,
      "outputs": []
    },
    {
      "cell_type": "markdown",
      "source": [
        "**Fatiando Strings**"
      ],
      "metadata": {
        "id": "pYHv18a8thNc"
      }
    },
    {
      "cell_type": "code",
      "source": [
        "nome = 'Python'\n",
        "print('A String \"Python\" contém', len(nome),'caracteres')\n",
        "print('Sendo que o caracter de indece zero nome[0] =', nome[0], 'e o cararacter de indece cinco nome[5] =', nome[5])\n",
        "print('a) Python:', nome[0:6:1])\n",
        "print('b) ytho:', nome[1:5])\n",
        "print('c) n:',nome[-1])\n",
        "print('d) nohtyP:', nome[-1:-7:-1])"
      ],
      "metadata": {
        "id": "_PZppE3Rtoi6"
      },
      "execution_count": null,
      "outputs": []
    },
    {
      "cell_type": "markdown",
      "source": [
        "**Comparando Strings**"
      ],
      "metadata": {
        "id": "z59UDTyZ_aTh"
      }
    },
    {
      "cell_type": "code",
      "source": [
        "from re import ASCII\n",
        "print(\"a\" == \"a\",\"a\" == \"b\",\"a\" != \"b\",\"a\" != \"a\")\n",
        "print(\"a\" <  \"a\",\"a\" <  \"b\",\"a\" >  \"b\", \"a\" > \"a\")\n",
        "print(\"Valor\\tHexa\\tCaractere\")\n",
        "for c in range(ASCII):\n",
        "  print(c,'\\t', (hex(c)[2:]).upper() , '\\t' , chr(c))"
      ],
      "metadata": {
        "id": "O7FkM7KH_ZyC"
      },
      "execution_count": null,
      "outputs": []
    },
    {
      "cell_type": "markdown",
      "source": [
        "**Percorrendo Strings**"
      ],
      "metadata": {
        "id": "c6D5Ba4hLyxb"
      }
    },
    {
      "cell_type": "code",
      "source": [
        "nome = 'Python é legal.'\n",
        "# for\n",
        "for i in nome:\n",
        "  print(i, end='')\n",
        "\n",
        "# for/enumerate\n",
        "print()\n",
        "for i, v in enumerate(nome):\n",
        "  print(i,'\\b =', v, end= \", \")\n",
        "\n",
        "# while\n",
        "print()\n",
        "i = 0\n",
        "while i < len(nome):\n",
        "  if i < len(nome)-1:\n",
        "    print(nome[i],'\\b', end=', ')\n",
        "  else:\n",
        "     print(nome[i], end='')\n",
        "  i += 1\n",
        "\n",
        "#dowhile\n",
        "print()\n",
        "i = 0\n",
        "while True:\n",
        "  print(nome[i], end='')\n",
        "  i += 1\n",
        "  if i == len(nome):\n",
        "    break"
      ],
      "metadata": {
        "id": "2X4hBghLLz9E"
      },
      "execution_count": null,
      "outputs": []
    },
    {
      "cell_type": "markdown",
      "source": [
        "**Prática Proposta 05**"
      ],
      "metadata": {
        "id": "vMwEO6ibX_db"
      }
    },
    {
      "cell_type": "code",
      "source": [
        "mystr= []\n",
        "for carac in range(ord('A'), ord('Z')+1):  # <- for carac  in range(65,91):\n",
        "  mystr.append(chr(carac))                 # <- Constroi a lista ['A',...,'Z']\n",
        "string = ' '.join(mystr)                   # <- Converte a lista em string A B...X Y Z\n",
        "for i,v in enumerate(string):              # <-\n",
        "  print(i,'\\b =', v, end= \" \")             # <- 0 = A 1 =  2 = B... 49 =  50 = Z\n",
        "novastring= string.replace(' ','-')        # <- Troca ' ' por '-'\n",
        "print()\n",
        "print(novastring)                          # <- A-B-C-...-W-X-Y-Z"
      ],
      "metadata": {
        "id": "VGT6eC7GYELh"
      },
      "execution_count": null,
      "outputs": []
    },
    {
      "cell_type": "markdown",
      "source": [
        "# **Aula 06 - Estrutura de Listas**"
      ],
      "metadata": {
        "id": "LznsvlvGJyXS"
      }
    },
    {
      "cell_type": "markdown",
      "source": [
        "**Introdução a listas**"
      ],
      "metadata": {
        "id": "ugolTWCqJ-jA"
      }
    },
    {
      "cell_type": "code",
      "source": [
        "nome = \"José de Sousa Magalhães\"\n",
        "lista = [1,2,3,4,5]\n",
        "lista2 = [1.5,2.3, 6.5]\n",
        "lista3 = [1,1.5,\"número\",True]"
      ],
      "metadata": {
        "id": "FasSDwPDJ91-"
      },
      "execution_count": null,
      "outputs": []
    },
    {
      "cell_type": "markdown",
      "source": [
        "**Percorrendo listas**"
      ],
      "metadata": {
        "id": "4zei6RMGLUpD"
      }
    },
    {
      "cell_type": "code",
      "source": [
        "lista = [100,200,300,400,500,600,700,800,900,1000]\n",
        "for i in lista:\n",
        "  print(i, end=\" \")\n",
        "print()\n",
        "for i in range(len(lista)):\n",
        "  print(lista[i], end=\" \")"
      ],
      "metadata": {
        "id": "TaBGyrwqLUML"
      },
      "execution_count": null,
      "outputs": []
    },
    {
      "cell_type": "markdown",
      "source": [
        "**Fatiando listas**"
      ],
      "metadata": {
        "id": "-xbx1kt_Mhoy"
      }
    },
    {
      "cell_type": "code",
      "source": [
        "#        0,1,2\n",
        "lista = [2,3,4]\n",
        "#       -3-2-1\n",
        "lista2 = ['P','y','t','h','o','n']\n",
        "print(lista[0:3:1],\"...\", lista[-3:-1:2], \"...\",lista[-3:-1], \"...\",lista2[::], \"...\",lista2[:: -1])"
      ],
      "metadata": {
        "id": "biQo2uGhMhL6"
      },
      "execution_count": null,
      "outputs": []
    },
    {
      "cell_type": "markdown",
      "source": [
        "**Prática Proposta 06 - 01**"
      ],
      "metadata": {
        "id": "q1ZrgAD9Q-64"
      }
    },
    {
      "cell_type": "code",
      "source": [
        "mylist = ['P','Y','T','H','O','N']\n",
        "novalista =mylist[3:6]\n",
        "print(novalista[::])"
      ],
      "metadata": {
        "id": "-fvrxB5RREA3"
      },
      "execution_count": null,
      "outputs": []
    },
    {
      "cell_type": "markdown",
      "source": [
        "**Incluir, alterar, excluir elementos de listas**"
      ],
      "metadata": {
        "id": "PhEaD09CVorW"
      }
    },
    {
      "cell_type": "code",
      "source": [
        "animais =['Gato', 'Cachorro', 'Elefante', 'Urubu']\n",
        "animais.append('Galinha')     # <- Append -> Inclui no final da lista\n",
        "animais.insert(0,'Papagaio')  # <- Insert -> Inclui na posição especificada\n",
        "print(animais)                # <- [Papagaio', 'Gato', 'Cachorro', 'Elefante', 'Urubu', 'Galinha']\n",
        "animais.pop(0)                # <- Remove da posição 0  'Papagaio'\n",
        "animais.remove('Urubu')       # <- Remove  o elemento 'Urubu' da lista\n",
        "print(animais)"
      ],
      "metadata": {
        "id": "9iHbik--VoMm"
      },
      "execution_count": null,
      "outputs": []
    },
    {
      "cell_type": "markdown",
      "source": [
        "**Ordenar listas**"
      ],
      "metadata": {
        "id": "SbBJxH9dY1fX"
      }
    },
    {
      "cell_type": "code",
      "source": [
        "lista = ['a','x','s','w','d','a','n','a']\n",
        "lista.reverse()   # <- reverte a lista\n",
        "print(lista)      # <- ['a', 'n', 'a', 'd', 'w', 's', 'x', 'a']\n",
        "lista.sort()      # <- ordena a lista\n",
        "print(lista)      # <- ['a', 'a', 'a', 'd', 'n', 's', 'w', 'x']'"
      ],
      "metadata": {
        "id": "8TPLS5KfY0of"
      },
      "execution_count": null,
      "outputs": []
    },
    {
      "cell_type": "markdown",
      "source": [
        "**Prática Proposta 06 - 02**"
      ],
      "metadata": {
        "id": "DuCxYEgidMB-"
      }
    },
    {
      "cell_type": "code",
      "source": [
        "moveis = ['cama', 'mesa','escrivaninha', 'cadeira']\n",
        "moveis.append('sofá')\n",
        "print(moveis)\n",
        "moveis.pop(2)\n",
        "print(moveis)"
      ],
      "metadata": {
        "colab": {
          "base_uri": "https://localhost:8080/"
        },
        "id": "qxGc9FgFdO22",
        "outputId": "1f7b2809-0648-4755-f744-b448538ecfcb"
      },
      "execution_count": 52,
      "outputs": [
        {
          "output_type": "stream",
          "name": "stdout",
          "text": [
            "['cama', 'mesa', 'escrivaninha', 'cadeira', 'sofá']\n",
            "['cama', 'mesa', 'cadeira', 'sofá']\n"
          ]
        }
      ]
    },
    {
      "cell_type": "markdown",
      "source": [
        "# **Aula 07 - Estrutura de Tuplas**"
      ],
      "metadata": {
        "id": "WC8ILFkiEWDK"
      }
    },
    {
      "cell_type": "markdown",
      "source": [
        "**Introdução a Tuplas**"
      ],
      "metadata": {
        "id": "8luBh8zmEqCW"
      }
    },
    {
      "cell_type": "code",
      "source": [
        "# Tuplas uma vez definidas são IMUTÁVEIS...\n",
        "t = tuple(\"abcde\")\n",
        "x = (\"Python\", \"curso\")\n",
        "x1 = (1,2,3,4)\n",
        "x2 = (2.1, 2.2, 2.3)\n",
        "x3 = (True, False, True)\n",
        "x4 = (1,2.1,True,\"Python\")\n",
        "print(\"t:\",t, \"\\b, ...x3:\",x3, \"\\b, ...type(x3):\",type(x3))\n",
        "print(x3[1],x2[1])"
      ],
      "metadata": {
        "id": "_g8sNophEvAu"
      },
      "execution_count": null,
      "outputs": []
    },
    {
      "cell_type": "markdown",
      "source": [
        "**Operações com tuplas**"
      ],
      "metadata": {
        "id": "JU_bJOfzIs1K"
      }
    },
    {
      "cell_type": "code",
      "source": [
        "#                      0           1           2         3        4        5\n",
        "elementos_tupla = ('São Paulo', 'sérgio', 'Teresina', 'Sergio','sérgio','Antônio')\n",
        "print('Manaus' in elementos_tupla)            # <- False\n",
        "print('São Paulo' in elementos_tupla)         # <- True\n",
        "print('São Paulo' not in elementos_tupla)     # <- False\n",
        "print('Manaus' not in elementos_tupla)        # <- True\n",
        "print('Sérgio' in elementos_tupla)            # <- False\n",
        "print(elementos_tupla.count('sérgio'))        # <- 2\n",
        "print(elementos_tupla.index('Antônio'))       # <- 5\n",
        "# print(elementos_tupla.index('Antonio'))     # <- ValueError: tuple.index(x): x not in tuple\n",
        "print(len(elementos_tupla))                   # <- 6\n",
        "print(elementos_tupla)                        # <- ('São Paulo', 'sérgio', 'Teresina', 'Sergio','sérgio','Antônio')\n",
        "elemento = 'sérgio'\n",
        "indices = [i for i, x in enumerate(elementos_tupla) if x == elemento]\n",
        "print(indices)                                # <- [1, 4]\n",
        "'''\n",
        "  Gemini: Explique \"indices = [i for i, x in enumerate(tupla) if x == elemento]\"\n",
        "  Esta linha de código é uma list comprehension que cria uma nova lista contendo\n",
        "  os índices dos elementos em tupla que são iguais a elemento.\n",
        "  Vamos dividir a expressão:\n",
        "  [i for i, x in enumerate(tupla) if x == elemento]\n",
        "  i for i, x in enumerate(tupla): Esta parte itera sobre a tupla usando\n",
        "  enumerate. enumerate retorna pares de índice e valor para cada elemento\n",
        "  da tupla. i representa o índice e x representa o valor do elemento.\n",
        "  if x == elemento: Esta é uma condição que verifica se o valor do elemento\n",
        "  atual (x) é igual ao elemento que estamos procurando.\n",
        "  i: Se a condição for verdadeira (ou seja, x é igual a elemento), o índice\n",
        "  i é adicionado à nova lista.\n",
        "'''\n",
        "\n",
        "\n"
      ],
      "metadata": {
        "id": "-XmH6wJEIys7"
      },
      "execution_count": null,
      "outputs": []
    }
  ]
}