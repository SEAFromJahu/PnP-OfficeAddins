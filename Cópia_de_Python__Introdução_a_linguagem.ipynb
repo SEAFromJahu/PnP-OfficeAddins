{
  "cells": [
    {
      "cell_type": "markdown",
      "metadata": {
        "id": "view-in-github",
        "colab_type": "text"
      },
      "source": [
        "<a href=\"https://colab.research.google.com/github/SEAFromJahu/PnP-OfficeAddins/blob/main/C%C3%B3pia_de_Python__Introdu%C3%A7%C3%A3o_a_linguagem.ipynb\" target=\"_parent\"><img src=\"https://colab.research.google.com/assets/colab-badge.svg\" alt=\"Open In Colab\"/></a>"
      ]
    },
    {
      "cell_type": "markdown",
      "metadata": {
        "id": "yyde7Ju_dZZL"
      },
      "source": [
        "# **Aula 01 - Introdução a Linguagem**"
      ]
    },
    {
      "cell_type": "markdown",
      "metadata": {
        "id": "HWTtV5MtMS0C"
      },
      "source": [
        "**Comentários**"
      ]
    },
    {
      "cell_type": "code",
      "execution_count": null,
      "metadata": {
        "id": "ptDI7mTjNB5w"
      },
      "outputs": [],
      "source": [
        "'''\n",
        "  Este é um comentário\n",
        "  longo do\n",
        "  Python\n",
        "  By José Magalhães\n",
        "'''\n",
        "# Ou\n",
        "\"\"\"\n",
        "  Este é um comentário\n",
        "  longo do\n",
        "  Python\n",
        "\"\"\"\n",
        "# Esta linha imprime um texto.\n",
        "print(\"Olá mundo!\")"
      ]
    },
    {
      "cell_type": "markdown",
      "metadata": {
        "id": "MEAH0CaPPp9v"
      },
      "source": [
        "**Identação**"
      ]
    },
    {
      "cell_type": "code",
      "execution_count": null,
      "metadata": {
        "id": "XUum1EUDOGwE"
      },
      "outputs": [],
      "source": [
        "x = 0\n",
        "if x == 0:\n",
        "  print(\"x é igual a zero.\")\n",
        "print(\"Isso está fora do if.\")"
      ]
    },
    {
      "cell_type": "markdown",
      "metadata": {
        "id": "u8IB2IrARhZR"
      },
      "source": [
        "**Variáveis**"
      ]
    },
    {
      "cell_type": "code",
      "execution_count": null,
      "metadata": {
        "id": "9s6fmbIaRg9S"
      },
      "outputs": [],
      "source": [
        "idade = 32\n",
        "peso = 65.4\n",
        "nome = \"José de Sousa Magalhães\"\n",
        "situacao = True\n",
        "situacao2 = False\n",
        "print(situacao)\n",
        "print(situacao2)\n",
        "print(idade)\n",
        "print(peso)\n",
        "print(nome)\n"
      ]
    },
    {
      "cell_type": "markdown",
      "metadata": {
        "id": "7ANLj2rJT6fX"
      },
      "source": [
        "**Tipos de Dados**"
      ]
    },
    {
      "cell_type": "code",
      "execution_count": null,
      "metadata": {
        "id": "WNKiJ4xHT4lV"
      },
      "outputs": [],
      "source": [
        "idade = 32\n",
        "peso = 65.4\n",
        "nome = \"José Magalhães\"\n",
        "situacao = True\n",
        "print(\"idade:\", type(idade))\n",
        "print(\"peso: \",type(peso))\n",
        "print(\"nome: \",type(nome)) # <- String\n",
        "print(\"situacao: \",type(situacao)) # <- Booleana"
      ]
    },
    {
      "cell_type": "markdown",
      "metadata": {
        "id": "YssJ8TbmWc7V"
      },
      "source": [
        "**Prática Proposta 01**"
      ]
    },
    {
      "cell_type": "code",
      "execution_count": null,
      "metadata": {
        "id": "_tzHb60CWZZX"
      },
      "outputs": [],
      "source": [
        "\"\"\"\n",
        "Aqui temos as variáveis\n",
        "com nomes de animais.\n",
        "quantidade e peso de cada animal.\n",
        "\"\"\"\n",
        "# Tipos de animal\n",
        "na11 = \"gato\"\n",
        "na21 = \"rato\"\n",
        "na31 = \"cavalo\"\n",
        "na41 =\"urubu\"\n",
        "# Quantidade de animais\n",
        "na12 = 1\n",
        "na22 = 20\n",
        "na32 = 1\n",
        "na42 = 10\n",
        "# Peso do animal\n",
        "na13= 3.2\n",
        "na23 =0.25\n",
        "na33 = 210.8\n",
        "na43 = 2.7\n",
        "# True = Vacinado, False não Vacinado\n",
        "na14 = True\n",
        "na24 = True\n",
        "na34 = True\n",
        "na44 = True"
      ]
    },
    {
      "cell_type": "markdown",
      "metadata": {
        "id": "-clsXDG6eFA3"
      },
      "source": [
        "# **Aula 02 - Manipulação de Dados**"
      ]
    },
    {
      "cell_type": "markdown",
      "metadata": {
        "id": "u2u8ypvIeUFe"
      },
      "source": [
        "**Saída de Dados em Python**"
      ]
    },
    {
      "cell_type": "code",
      "execution_count": null,
      "metadata": {
        "id": "DeYznlgPfYMx"
      },
      "outputs": [],
      "source": [
        "print(\"Olá Mundo!\")\n",
        "nome = \"José Magalhães\"\n",
        "idade = 30\n",
        "peso = 65.4"
      ]
    },
    {
      "cell_type": "code",
      "execution_count": null,
      "metadata": {
        "id": "jQJ9PpbifvEc"
      },
      "outputs": [],
      "source": [
        "print(\"O nome do professor é\",nome, \"ele tem\",idade, \"anos de idade ele pesa\", peso,\"kg.\")\n",
        "print(\"14\", \"09\", \"1956\", sep=\"/\")\n",
        "print(\"1956\", \"09\", \"14\", sep=\"-\")\n",
        "print('B','n','n','s', sep='a')"
      ]
    },
    {
      "cell_type": "markdown",
      "metadata": {
        "id": "Ura01JSlxO1P"
      },
      "source": [
        "**Entrada de Dados em Python**"
      ]
    },
    {
      "cell_type": "code",
      "execution_count": null,
      "metadata": {
        "id": "Bqh5N4rDxNRn"
      },
      "outputs": [],
      "source": [
        "nome = input(\"Digite seu nome: \") # String\n",
        "idade= int(input(\"Digite sua idade: \")) # Inteiro\n",
        "peso = float(input(\"Digite seu peso: \")) # Float\n",
        "print(\"Oká professor\",nome, \"você tem\",idade, \"anos de idade e pesa\", peso,\"kg.\")"
      ]
    },
    {
      "cell_type": "markdown",
      "metadata": {
        "id": "ysM4zcqPzqlO"
      },
      "source": [
        "**Operadores Aritiméticos**"
      ]
    },
    {
      "cell_type": "code",
      "execution_count": null,
      "metadata": {
        "id": "zB-p9LWFzpzW"
      },
      "outputs": [],
      "source": [
        "# +, -, /, *, //, %\n",
        "a = 4\n",
        "b = 4\n",
        "c = a/b\n",
        "d = a//b\n",
        "e = a%b\n",
        "print(c)\n",
        "print(d)\n",
        "print(e)\n",
        "print(a+b)      # <- Adição\n",
        "print(a-b)      # <- Subtração\n",
        "print(a/b)      # <- Divisão\n",
        "print(a*b)      # <- Multiplicação\n",
        "print(a**b)     # <- Potenciação\n",
        "print(a//b)     # <- Divisão Inteira\n",
        "print(a%b)      # <- Resto\n",
        "print(type(c))  # <- float\n",
        "print(type(d))  # <- int\n",
        "print(type(e))  # <- int"
      ]
    },
    {
      "cell_type": "markdown",
      "metadata": {
        "id": "ds-lHcjg9cZH"
      },
      "source": [
        "**Prática Proposta 02**"
      ]
    },
    {
      "cell_type": "code",
      "execution_count": null,
      "metadata": {
        "id": "uigaf2MY9Zld"
      },
      "outputs": [],
      "source": [
        "nome = input(\"Digite seu nome: \")\n",
        "altura = float(input(\"Digite sua altura: \"))\n",
        "cpf = int(input(\"Digite seu cpf: \"))\n",
        "print(\"Olá\", nome, \"cpf\", cpf, \"você ainda tem\", altura,\"m de altura\")"
      ]
    },
    {
      "cell_type": "markdown",
      "metadata": {
        "id": "C0KUs9EcBOjK"
      },
      "source": [
        "# **Aula 03 - Estruturas de Condição**"
      ]
    },
    {
      "cell_type": "markdown",
      "metadata": {
        "id": "ZBUbjje-D7_p"
      },
      "source": [
        "**Operadores de Relação e Condição**"
      ]
    },
    {
      "cell_type": "code",
      "execution_count": null,
      "metadata": {
        "id": "g2tNjDAXBgAI"
      },
      "outputs": [],
      "source": [
        "# Operadores de Igualdade\n",
        "# ==, !=\n",
        "# Operadores de Comparação (Relacionais)\n",
        "# <, >, <=, >=\n",
        "# Operadores Lógicos\n",
        "# and, or, not\n",
        "num = 100 == 100\n",
        "print(num)"
      ]
    },
    {
      "cell_type": "markdown",
      "metadata": {
        "id": "zByB2dskG90m"
      },
      "source": [
        "**Comando if else**"
      ]
    },
    {
      "cell_type": "code",
      "execution_count": null,
      "metadata": {
        "id": "s1798-kBG9MO"
      },
      "outputs": [],
      "source": [
        "numero = 10\n",
        "if numero == 10: # True\n",
        "  print(\"Este número é igual a 10!\")\n",
        "else: # False\n",
        "  print(\"Este número não é igual a 10!\")"
      ]
    },
    {
      "cell_type": "markdown",
      "metadata": {
        "id": "krEWMNX1ICNI"
      },
      "source": [
        "**Comando elif**"
      ]
    },
    {
      "cell_type": "code",
      "execution_count": null,
      "metadata": {
        "id": "ElCe7DLHIBth"
      },
      "outputs": [],
      "source": [
        "numero = 15\n",
        "if numero == 10: # True\n",
        "  print(\"Este número é igual a 10!\")\n",
        "elif numero == 11: # True\n",
        "  print(\"Este número é igual a 11!\")\n",
        "elif numero == 12: # True\n",
        "  print(\"Este número é igual a 12!\")\n",
        "elif numero == 13: # True\n",
        "  print(\"Este número é igual a 13!\")\n",
        "else: # True\n",
        "  print(\"Este número não é igual a 10,11,12 ou 13!\")"
      ]
    },
    {
      "cell_type": "markdown",
      "metadata": {
        "id": "x6H82bNoJmME"
      },
      "source": [
        "**Prática Proposta 03**"
      ]
    },
    {
      "cell_type": "code",
      "execution_count": null,
      "metadata": {
        "id": "8P7_ZPt7Jljt"
      },
      "outputs": [],
      "source": [
        "numero = 16\n",
        "if numero == 15: # True\n",
        "  print(\"Este número é igual a 15!\")\n",
        "elif numero < 15: # True\n",
        "  print(\"Este número é menor que 15!\")\n",
        "else: # True\n",
        "  print(\"Este número é maior que 15!\")"
      ]
    },
    {
      "cell_type": "markdown",
      "metadata": {
        "id": "WaZyu0kELd4Z"
      },
      "source": [
        "# **Aula 04 - Estruturas de Controle de Fluxo**"
      ]
    },
    {
      "cell_type": "markdown",
      "metadata": {
        "id": "ogb4PlogMNSh"
      },
      "source": [
        "**Laço de Repetição: While**\n"
      ]
    },
    {
      "cell_type": "code",
      "execution_count": null,
      "metadata": {
        "colab": {
          "base_uri": "https://localhost:8080/"
        },
        "id": "5hrLz2IFMeV_",
        "outputId": "1a340729-940e-4e1f-cf89-62223827d756"
      },
      "outputs": [
        {
          "name": "stdout",
          "output_type": "stream",
          "text": [
            "1 2 3 4 5 6 7 8 9 10 \n"
          ]
        }
      ],
      "source": [
        "i = 1\n",
        "valores_atribuidos_ai = \"\"\n",
        "while i <= 10:\n",
        "  valores_atribuidos_ai += f\"{str(i)} \"\n",
        "  i += 1\n",
        "print(valores_atribuidos_ai)"
      ]
    },
    {
      "cell_type": "markdown",
      "metadata": {
        "id": "FnvBpNNDWE3F"
      },
      "source": [
        "**Laço de Repetição: for**"
      ]
    },
    {
      "cell_type": "code",
      "execution_count": null,
      "metadata": {
        "id": "t4KTliBKWRv6"
      },
      "outputs": [],
      "source": [
        "import time\n",
        "for i in \"Python\":\n",
        "  print(i, end= \"\")\n",
        "  time.sleep(0.3)\n",
        "print()             # <- Mudar para linha de baixo\n",
        "num = [ 1,3,5,7,9,11,13,15,17,19,21]  # <- Lista\n",
        "for i in num:\n",
        "  print(i,end=\" \")\n",
        "  time.sleep(0.75)"
      ]
    },
    {
      "cell_type": "markdown",
      "metadata": {
        "id": "aKAJKBBGWYRT"
      },
      "source": [
        "**Laço de Repetição: for range**"
      ]
    },
    {
      "cell_type": "code",
      "execution_count": null,
      "metadata": {
        "id": "dKug_nvGWXeh"
      },
      "outputs": [],
      "source": [
        "for i in range(10):\n",
        "  print(i+1, end=\" \") # <- \"i+1\" para começar em 1 2 ...\n",
        "print(\" \", end=\" \")\n",
        "for j in range(10, 0, -1): # <- \"j\" para começar em 10 9 ... até 0\n",
        "  print(j, end=\" \")"
      ]
    },
    {
      "cell_type": "markdown",
      "metadata": {
        "id": "fsF41A4LfQVV"
      },
      "source": [
        "**Instrução Break e Continue**"
      ]
    },
    {
      "cell_type": "code",
      "execution_count": null,
      "metadata": {
        "id": "k4_YqZsYfPE8"
      },
      "outputs": [],
      "source": [
        "# Break\n",
        "for i in range(1, 11):\n",
        "  if i == 5:\n",
        "    break\n",
        "  print(i, end=\" \")\n",
        "# Continue\n",
        "print()\n",
        "i = 0\n",
        "while i < 10:\n",
        "  i += 1\n",
        "  if i %  2 == 0:\n",
        "    continue\n",
        "  print(i, end=\" \")\n",
        "# ...\n",
        "print()\n",
        "for i in range(1, 11):\n",
        "  if i % 2 != 0:\n",
        "    continue\n",
        "  print(i, end= \" \")\n",
        "#"
      ]
    },
    {
      "cell_type": "markdown",
      "metadata": {
        "id": "N7JQwEercSM7"
      },
      "source": [
        "**Prática Proposta 04**"
      ]
    },
    {
      "cell_type": "code",
      "execution_count": null,
      "metadata": {
        "id": "4AlAFgdkcQOE"
      },
      "outputs": [],
      "source": [
        "for i in range(0,16,3):\n",
        "  if i % 3 == 0:\n",
        "    print(i, end=\" \")"
      ]
    },
    {
      "cell_type": "markdown",
      "metadata": {
        "id": "pKbV1cRjjpDU"
      },
      "source": [
        "# **Aula 05 - Strings**"
      ]
    },
    {
      "cell_type": "markdown",
      "metadata": {
        "id": "51eKxmgokBmg"
      },
      "source": [
        "**Introdução a Strings**"
      ]
    },
    {
      "cell_type": "code",
      "execution_count": null,
      "metadata": {
        "id": "sgcAFRCYjzrh"
      },
      "outputs": [],
      "source": [
        "nome = \"José de Sousa Magalhães\"\n",
        "nome1 = '''\n",
        "  Esta é uma String Longa\n",
        "  contendo informações sobre\n",
        "  Python.\n",
        "'''\n",
        "nome2 = \"\"\"\n",
        "    Esta é outra String Longa\n",
        "    contendo informações sobre\n",
        "    Python.\n",
        "\"\"\"\n",
        "print(type(nome), \"\\n\\n\", nome, \"\\n\",nome1,nome2)"
      ]
    },
    {
      "cell_type": "markdown",
      "metadata": {
        "id": "FahFvfOSn_OH"
      },
      "source": [
        "**Propriedades das Strings**"
      ]
    },
    {
      "cell_type": "code",
      "execution_count": null,
      "metadata": {
        "id": "veaqCG_an-YF"
      },
      "outputs": [],
      "source": [
        "l = 'lista de letras'\n",
        "data = '14/09/1956'\n",
        "# Tamanho da string\n",
        "tamanho = len(l)\n",
        "print(tamanho)\n",
        "# Split da string\n",
        "lista = data.split('/')\n",
        "print(lista)\n",
        "# Substituição na string\n",
        "nova_data = data.replace('/','-')\n",
        "print(nova_data)"
      ]
    },
    {
      "cell_type": "markdown",
      "metadata": {
        "id": "pYHv18a8thNc"
      },
      "source": [
        "**Fatiando Strings**"
      ]
    },
    {
      "cell_type": "code",
      "execution_count": null,
      "metadata": {
        "id": "_PZppE3Rtoi6"
      },
      "outputs": [],
      "source": [
        "nome = 'Python'\n",
        "print('A String \"Python\" contém', len(nome),'caracteres')\n",
        "print('Sendo que o caracter de indece zero nome[0] =', nome[0], 'e o cararacter de indece cinco nome[5] =', nome[5])\n",
        "print('a) Python:', nome[0:6:1])\n",
        "print('b) ytho:', nome[1:5])\n",
        "print('c) n:',nome[-1])\n",
        "print('d) nohtyP:', nome[-1:-7:-1])"
      ]
    },
    {
      "cell_type": "markdown",
      "metadata": {
        "id": "z59UDTyZ_aTh"
      },
      "source": [
        "**Comparando Strings**"
      ]
    },
    {
      "cell_type": "code",
      "execution_count": null,
      "metadata": {
        "id": "O7FkM7KH_ZyC"
      },
      "outputs": [],
      "source": [
        "from re import ASCII\n",
        "print(\"a\" == \"a\",\"a\" == \"b\",\"a\" != \"b\",\"a\" != \"a\")\n",
        "print(\"a\" <  \"a\",\"a\" <  \"b\",\"a\" >  \"b\", \"a\" > \"a\")\n",
        "print(\"Valor\\tHexa\\tCaractere\")\n",
        "for c in range(ASCII):\n",
        "  print(c,'\\t', (hex(c)[2:]).upper() , '\\t' , chr(c))"
      ]
    },
    {
      "cell_type": "markdown",
      "metadata": {
        "id": "c6D5Ba4hLyxb"
      },
      "source": [
        "**Percorrendo Strings**"
      ]
    },
    {
      "cell_type": "code",
      "execution_count": null,
      "metadata": {
        "id": "2X4hBghLLz9E"
      },
      "outputs": [],
      "source": [
        "nome = 'Python é legal.'\n",
        "# for\n",
        "for i in nome:\n",
        "  print(i, end='')\n",
        "\n",
        "# for/enumerate\n",
        "print()\n",
        "for i, v in enumerate(nome):\n",
        "  print(i,'\\b =', v, end= \", \")\n",
        "\n",
        "# while\n",
        "print()\n",
        "i = 0\n",
        "while i < len(nome):\n",
        "  if i < len(nome)-1:\n",
        "    print(nome[i],'\\b', end=', ')\n",
        "  else:\n",
        "     print(nome[i], end='')\n",
        "  i += 1\n",
        "\n",
        "#dowhile\n",
        "print()\n",
        "i = 0\n",
        "while True:\n",
        "  print(nome[i], end='')\n",
        "  i += 1\n",
        "  if i == len(nome):\n",
        "    break"
      ]
    },
    {
      "cell_type": "markdown",
      "metadata": {
        "id": "vMwEO6ibX_db"
      },
      "source": [
        "**Prática Proposta 05**"
      ]
    },
    {
      "cell_type": "code",
      "execution_count": null,
      "metadata": {
        "id": "VGT6eC7GYELh"
      },
      "outputs": [],
      "source": [
        "mystr= []\n",
        "for carac in range(ord('A'), ord('Z')+1):  # <- for carac  in range(65,91):\n",
        "  mystr.append(chr(carac))                 # <- Constroi a lista ['A',...,'Z']\n",
        "string = ' '.join(mystr)                   # <- Converte a lista em string A B...X Y Z\n",
        "for i,v in enumerate(string):              # <-\n",
        "  print(i,'\\b =', v, end= \" \")             # <- 0 = A 1 =  2 = B... 49 =  50 = Z\n",
        "novastring= string.replace(' ','-')        # <- Troca ' ' por '-'\n",
        "print()\n",
        "print(novastring)                          # <- A-B-C-...-W-X-Y-Z"
      ]
    },
    {
      "cell_type": "markdown",
      "metadata": {
        "id": "LznsvlvGJyXS"
      },
      "source": [
        "# **Aula 06 - Estrutura de Listas**"
      ]
    },
    {
      "cell_type": "markdown",
      "metadata": {
        "id": "ugolTWCqJ-jA"
      },
      "source": [
        "**Introdução a listas**"
      ]
    },
    {
      "cell_type": "code",
      "execution_count": null,
      "metadata": {
        "id": "FasSDwPDJ91-"
      },
      "outputs": [],
      "source": [
        "nome = \"José de Sousa Magalhães\"\n",
        "lista = [1,2,3,4,5]\n",
        "lista2 = [1.5,2.3, 6.5]\n",
        "lista3 = [1,1.5,\"número\",True]"
      ]
    },
    {
      "cell_type": "markdown",
      "metadata": {
        "id": "4zei6RMGLUpD"
      },
      "source": [
        "**Percorrendo listas**"
      ]
    },
    {
      "cell_type": "code",
      "execution_count": null,
      "metadata": {
        "id": "TaBGyrwqLUML"
      },
      "outputs": [],
      "source": [
        "lista = [100,200,300,400,500,600,700,800,900,1000]\n",
        "for i in lista:\n",
        "  print(i, end=\" \")\n",
        "print()\n",
        "for i in range(len(lista)):\n",
        "  print(lista[i], end=\" \")"
      ]
    },
    {
      "cell_type": "markdown",
      "metadata": {
        "id": "-xbx1kt_Mhoy"
      },
      "source": [
        "**Fatiando listas**"
      ]
    },
    {
      "cell_type": "code",
      "execution_count": null,
      "metadata": {
        "id": "biQo2uGhMhL6"
      },
      "outputs": [],
      "source": [
        "#        0,1,2\n",
        "lista = [2,3,4]\n",
        "#       -3-2-1\n",
        "lista2 = ['P','y','t','h','o','n']\n",
        "print(lista[0:3:1],\"...\", lista[-3:-1:2], \"...\",lista[-3:-1], \"...\",lista2[::], \"...\",lista2[:: -1])"
      ]
    },
    {
      "cell_type": "markdown",
      "metadata": {
        "id": "q1ZrgAD9Q-64"
      },
      "source": [
        "**Prática Proposta 06 - 01**"
      ]
    },
    {
      "cell_type": "code",
      "execution_count": null,
      "metadata": {
        "id": "-fvrxB5RREA3"
      },
      "outputs": [],
      "source": [
        "mylist = ['P','Y','T','H','O','N']\n",
        "novalista =mylist[3:6]\n",
        "print(novalista[::])"
      ]
    },
    {
      "cell_type": "markdown",
      "metadata": {
        "id": "PhEaD09CVorW"
      },
      "source": [
        "**Incluir, alterar, excluir elementos de listas**"
      ]
    },
    {
      "cell_type": "code",
      "execution_count": null,
      "metadata": {
        "id": "9iHbik--VoMm"
      },
      "outputs": [],
      "source": [
        "animais =['Gato', 'Cachorro', 'Elefante', 'Urubu']\n",
        "animais.append('Galinha')     # <- Append -> Inclui no final da lista\n",
        "animais.insert(0,'Papagaio')  # <- Insert -> Inclui na posição especificada\n",
        "print(animais)                # <- [Papagaio', 'Gato', 'Cachorro', 'Elefante', 'Urubu', 'Galinha']\n",
        "animais.pop(0)                # <- Remove da posição 0  'Papagaio'\n",
        "animais.remove('Urubu')       # <- Remove  o elemento 'Urubu' da lista\n",
        "print(animais)"
      ]
    },
    {
      "cell_type": "markdown",
      "metadata": {
        "id": "SbBJxH9dY1fX"
      },
      "source": [
        "**Ordenar listas**"
      ]
    },
    {
      "cell_type": "code",
      "execution_count": null,
      "metadata": {
        "id": "8TPLS5KfY0of"
      },
      "outputs": [],
      "source": [
        "lista = ['a','x','s','w','d','a','n','a']\n",
        "lista.reverse()   # <- reverte a lista\n",
        "print(lista)      # <- ['a', 'n', 'a', 'd', 'w', 's', 'x', 'a']\n",
        "lista.sort()      # <- ordena a lista\n",
        "print(lista)      # <- ['a', 'a', 'a', 'd', 'n', 's', 'w', 'x']'"
      ]
    },
    {
      "cell_type": "markdown",
      "metadata": {
        "id": "DuCxYEgidMB-"
      },
      "source": [
        "**Prática Proposta 06 - 02**"
      ]
    },
    {
      "cell_type": "code",
      "execution_count": null,
      "metadata": {
        "id": "qxGc9FgFdO22"
      },
      "outputs": [],
      "source": [
        "moveis = ['cama', 'mesa','escrivaninha', 'cadeira']\n",
        "moveis.append('sofá')\n",
        "print(moveis)\n",
        "moveis.pop(2)\n",
        "print(moveis)"
      ]
    },
    {
      "cell_type": "markdown",
      "metadata": {
        "id": "WC8ILFkiEWDK"
      },
      "source": [
        "# **Aula 07 - Estrutura de Tuplas**"
      ]
    },
    {
      "cell_type": "markdown",
      "metadata": {
        "id": "8luBh8zmEqCW"
      },
      "source": [
        "**Introdução a Tuplas**"
      ]
    },
    {
      "cell_type": "code",
      "execution_count": null,
      "metadata": {
        "id": "_g8sNophEvAu"
      },
      "outputs": [],
      "source": [
        "# Tuplas uma vez definidas são IMUTÁVEIS...\n",
        "t = tuple(\"abcde\")\n",
        "x = (\"Python\", \"curso\")\n",
        "x1 = (1,2,3,4)\n",
        "x2 = (2.1, 2.2, 2.3)\n",
        "x3 = (True, False, True)\n",
        "x4 = (1,2.1,True,\"Python\")\n",
        "print(\"t:\",t, \"\\b, ...x3:\",x3, \"\\b, ...type(x3):\",type(x3))\n",
        "print(x3[1],x2[1])"
      ]
    },
    {
      "cell_type": "markdown",
      "metadata": {
        "id": "JU_bJOfzIs1K"
      },
      "source": [
        "**Operações com tuplas**"
      ]
    },
    {
      "cell_type": "code",
      "execution_count": null,
      "metadata": {
        "id": "-XmH6wJEIys7"
      },
      "outputs": [],
      "source": [
        "#                      0           1           2         3        4        5\n",
        "elementos_tupla = ('São Paulo', 'sérgio', 'Teresina', 'Sergio','sérgio','Antônio')\n",
        "print('Manaus' in elementos_tupla)            # <- False\n",
        "print('São Paulo' in elementos_tupla)         # <- True\n",
        "print('São Paulo' not in elementos_tupla)     # <- False\n",
        "print('Manaus' not in elementos_tupla)        # <- True\n",
        "print('Sérgio' in elementos_tupla)            # <- False\n",
        "print(elementos_tupla.count('sérgio'))        # <- 2\n",
        "print(elementos_tupla.index('Antônio'))       # <- 5\n",
        "# print(elementos_tupla.index('Antonio'))     # <- ValueError: tuple.index(x): x not in tuple\n",
        "print(len(elementos_tupla))                   # <- 6\n",
        "print(elementos_tupla)                        # <- ('São Paulo', 'sérgio', 'Teresina', 'Sergio','sérgio','Antônio')\n",
        "elemento = 'sérgio'\n",
        "#indices = [i for i, x in enumerate(elementos_tupla) if x == elemento]\n",
        "indices = [i for i, v in enumerate(elementos_tupla) if v == elemento]\n",
        "print(indices)                                # <- [1, 4]\n",
        "'''\n",
        "  Gemini: Explique \"indices = [i for i, x in enumerate(tupla) if x == elemento]\"\n",
        "  Esta linha de código é uma list comprehension que cria uma nova lista contendo\n",
        "  os índices dos elementos em tupla que são iguais a elemento.\n",
        "  Vamos dividir a expressão:\n",
        "  [i for i, x in enumerate(tupla) if x == elemento]\n",
        "  i for i, x in enumerate(tupla): Esta parte itera sobre a tupla usando\n",
        "  enumerate. enumerate retorna pares de índice e valor para cada elemento\n",
        "  da tupla. i representa o índice e x representa o valor do elemento.\n",
        "  if x == elemento: Esta é uma condição que verifica se o valor do elemento\n",
        "  atual (x) é igual ao elemento que estamos procurando.\n",
        "  i: Se a condição for verdadeira (ou seja, x é igual a elemento), o índice\n",
        "  i é adicionado à nova lista.\n",
        "'''"
      ]
    },
    {
      "cell_type": "markdown",
      "metadata": {
        "id": "y131ymNWywF4"
      },
      "source": [
        "# **Aula 08 - Estruturas de Dicionários**"
      ]
    },
    {
      "cell_type": "markdown",
      "metadata": {
        "id": "rj9xAFuey3n8"
      },
      "source": [
        "**Introdução a Dicionários**"
      ]
    },
    {
      "cell_type": "code",
      "execution_count": null,
      "metadata": {
        "id": "ssUsGI17zJcs"
      },
      "outputs": [],
      "source": [
        "dicionario = {\"a\":\"amor\", \"b\":\"bola\", \"c\":\"cachorro\"}\n",
        "dicionario2 = {1:20, 3:30, 5:70}\n",
        "dicionario3 = {5.5:60, 30.1: 20.70}\n",
        "dicionario4 = {(10,20):[\"Python\",\"linguagem\", 10]}\n",
        "print(dicionario, dicionario2, dicionario3, dicionario4, type(dicionario4))"
      ]
    },
    {
      "cell_type": "markdown",
      "metadata": {
        "id": "ophkBOgv1LSI"
      },
      "source": [
        "**Acessando dicionários**"
      ]
    },
    {
      "cell_type": "code",
      "execution_count": null,
      "metadata": {
        "id": "GABX4U-81J5f"
      },
      "outputs": [],
      "source": [
        "dicionario ={\"a\":\"letra A\",\"b\":\"letra B\",\"c\":\"letra C\"}\n",
        "#print(dicionario.keys(), dicionario.values(), list(dicionario.keys())[0], dicionario[list(dicionario.keys())[1]], dicionario.get(list(dicionario.keys())[2],\"Valor não encontrado\"))\n",
        "print(dicionario.keys(), dicionario.values(), dicionario.get(\"c\",\"Valor não encontrado\"),dicionario.get(\"d\",\"Valor não encontrado para a chave 'd'\"))\n",
        "\n",
        "print(dicionario.get(\"c\",\"Valor não encontrado\"))\n",
        "print(dicionario.get(list(dicionario.keys())[2],\"Valor não encontrado\"))\n",
        "\n",
        "\"\"\"\n",
        " Lógica incorreta:\n",
        " print(dicionario.get(list(dicionario.keys())[3],\"Valor não encontrado\"))\n",
        "\n",
        "Este método tenta acessar um valor do dicionário através de uma lista\n",
        "criada a partir das chaves do dicionário.\n",
        "list(dicionario.keys()) cria uma lista contendo todas as chaves do dicionário.\n",
        "[3] tenta acessar o quarto elemento (índice 3) desta lista.\n",
        "Como o dicionário dicionario tem apenas três chaves, a lista de chaves\n",
        "terá apenas três elementos (índices 0, 1 e 2).\n",
        "Tentar acessar o índice 3 causa um erro IndexError: list index out of\n",
        "range, pois este índice não existe na lista.\n",
        "Em resumo, o primeiro método acessa a chave diretamente e lida com a\n",
        "possibilidade da chave não existir, enquanto o segundo método tenta acessar\n",
        "um elemento inexistente em uma lista, resultando em um erro.\n",
        "\n",
        "\"\"\"\n",
        "print(dicionario.get(list(dicionario.keys())[0],\"Valor não encontrado\"))\n",
        "print(dicionario.get(list(dicionario.keys())[-1],\"Valor não encontrado\"))"
      ]
    },
    {
      "cell_type": "markdown",
      "metadata": {
        "id": "sm-i3av5Pyjv"
      },
      "source": [
        "**Funções com dicionários**"
      ]
    },
    {
      "cell_type": "code",
      "execution_count": null,
      "metadata": {
        "id": "_NCx82NrPxVe"
      },
      "outputs": [],
      "source": [
        "from typing import KeysView\n",
        "agenda = {40408021:\"José\", 87541236:\"Heloise\", 78945616:\"Marta\", 78945612:\"Carlos\",36925874:\"Claudio\"}\n",
        "print(agenda)\n",
        "del(agenda[40408021])\n",
        "print(agenda)\n",
        "print('----------------------------------------------')\n",
        "print(agenda.keys())\n",
        "print(agenda.values())\n",
        "print('----------------------------------------------')\n",
        "print(agenda.popitem())\n",
        "print(agenda)\n",
        "print('----------------------------------------------')\n",
        "print(agenda.pop(78945612))\n",
        "del(agenda[78945616])\n",
        "print(agenda)\n",
        "print('----------------------------------------------')\n",
        "agenda.clear()\n",
        "print(agenda)"
      ]
    },
    {
      "cell_type": "markdown",
      "metadata": {
        "id": "ckvtwrzkUbSF"
      },
      "source": [
        "\n",
        "**Prática Proposta 08 - 01**"
      ]
    },
    {
      "cell_type": "code",
      "execution_count": null,
      "metadata": {
        "id": "NTg4hB8vUZvc"
      },
      "outputs": [],
      "source": [
        "semana = {\"dia1\":\"Domingo\", \"dia2\":\"Segunda-Feira\", \"dia3\":\"Terça-Feira\", \"dia4\":\"Quarta-Feira\", \"dia5\":\"Quinta-Feira\", \"dia6\":\"Sexta-Feira\", \"dia7\":\"Sábado\"}\n",
        "print(semana)\n",
        "semana.popitem()        # <- Pop o último da semana: -> Sábado\n",
        "semana.pop('dia6')      # <- Pop novamente o último da semana: -> Sexta-Feira\n",
        "del(semana['dia2'])     # <- Pop específicamente o elemento dia2 -> Segunda-Feira\n",
        "print(\"Chaves:\",semana.keys(),\"Valores\",semana.values())\n",
        "print(semana)"
      ]
    },
    {
      "cell_type": "markdown",
      "metadata": {
        "id": "C6PPnrt_cSC5"
      },
      "source": [
        "# **Aula 09 - Funções**"
      ]
    },
    {
      "cell_type": "markdown",
      "metadata": {
        "id": "PTg6WEtHda9t"
      },
      "source": [
        "**Introdução a Funções**"
      ]
    },
    {
      "cell_type": "code",
      "execution_count": null,
      "metadata": {
        "id": "-KokIciwb-AS"
      },
      "outputs": [],
      "source": [
        "def funcao():\n",
        "  print(\"Olá Mundo!\")\n",
        "funcao()"
      ]
    },
    {
      "cell_type": "markdown",
      "metadata": {
        "id": "lC5x5_4LeaQH"
      },
      "source": [
        "**Parâmetros de Funções**"
      ]
    },
    {
      "cell_type": "code",
      "execution_count": null,
      "metadata": {
        "id": "3fIomnfKeZTe"
      },
      "outputs": [],
      "source": [
        "def soma(x,y):\n",
        "  total = x + y\n",
        "  print(total)\n",
        "soma(10,20)"
      ]
    },
    {
      "cell_type": "markdown",
      "metadata": {
        "id": "mnoVE0Y-fZ02"
      },
      "source": [
        "**Retorno de Valores**"
      ]
    },
    {
      "cell_type": "code",
      "execution_count": null,
      "metadata": {
        "id": "ulJEY5zXffiI"
      },
      "outputs": [],
      "source": [
        "def show():\n",
        "  return 15\n",
        "  print(\"Olá Mundo!\")\n",
        "print(show())\n",
        "def mult(a,b):\n",
        "  return a * b\n",
        "print(mult(10,20))"
      ]
    },
    {
      "cell_type": "markdown",
      "metadata": {
        "id": "V6aonu1BgsnO"
      },
      "source": [
        "**Prática Proposta 09**"
      ]
    },
    {
      "cell_type": "code",
      "execution_count": null,
      "metadata": {
        "id": "4Jaj6AeThS1s"
      },
      "outputs": [],
      "source": [
        "def funcao(x,y):\n",
        "  print(\"Soma de x+y =\", x+y, \"Subtração de x-y=\", x-y, \"Divisão de x/y=\", x/y, \"Multiplicação de x*y=\", x*y)\n",
        "funcao(10,5)"
      ]
    },
    {
      "cell_type": "markdown",
      "metadata": {
        "id": "2lFEliM3jeBT"
      },
      "source": [
        "# **Projeto Final 10**"
      ]
    },
    {
      "cell_type": "code",
      "source": [],
      "metadata": {
        "id": "Zcib43ucqF_2"
      },
      "execution_count": null,
      "outputs": []
    },
    {
      "cell_type": "code",
      "execution_count": null,
      "metadata": {
        "id": "FTXnjTspjnje"
      },
      "outputs": [],
      "source": [
        "import time\n",
        "\n",
        "from IPython.display import clear_output\n",
        "\n",
        "\n",
        "def somar():\n",
        "    a, b = entradas()   # Assign the returned tuple\n",
        "    print(\"Soma = \", a + b)\n",
        "\n",
        "\n",
        "def subtrair():\n",
        "    a, b = entradas()   # Assign the returned tuple\n",
        "    print(a - b)\n",
        "\n",
        "\n",
        "def dividir():\n",
        "    a, b = entradas()   # Assign the returned tuple\n",
        "    if (b != 0):\n",
        "        print(a // b)\n",
        "    else:\n",
        "        print(\"Infinito...\")\n",
        "\n",
        "\n",
        "def multiplicar():\n",
        "    a, b = entradas()   # Assign the returned tuple\n",
        "    print(a * b)\n",
        "\n",
        "\n",
        "def entradas():\n",
        "    a = int(input(\"Digite o primeiro número: \"))\n",
        "    b = int(input(\"Digite o segundo número: \"))\n",
        "    if (a < b):\n",
        "        print(\"Permutando os números digitados \")\n",
        "        c = a\n",
        "        a = b\n",
        "        b = c\n",
        "    return a, b   # Return a tuple of the values\n",
        "\n",
        "\n",
        "def listar():\n",
        "\n",
        "    vt1 = \"\"\"Fácil de aprender e usar: A sintaxe do Python é muito clara e\n",
        "        intuitiva, parecida com a língua inglesa. Isso torna a linguagem\n",
        "        fácil de aprender e usar, mesmo para quem nunca programou antes.\"\"\"\n",
        "\n",
        "    vt2 = \"\"\"Versatilidade: Python pode ser usado para diversas tarefas,\n",
        "        desde desenvolvimento web e análise de dados até inteligência\n",
        "        artificial e machine learning.\"\"\"\n",
        "\n",
        "    vt3 = \"\"\"Grande comunidade e suporte: Python tem uma comunidade enorme\n",
        "        e ativa de desenvolvedores. Isso significa que você encontrará\n",
        "        muitos recursos, tutoriais e bibliotecas disponíveis online,\n",
        "        além de poder contar com a ajuda de outros programadores.\"\"\"\n",
        "\n",
        "    vt4 = \"\"\"Open source: Python é uma linguagem de código aberto, o que\n",
        "        significa que é gratuita para usar, distribuir e modificar.\"\"\"\n",
        "\n",
        "    vt5 = \"\"\"Bibliotecas extensas: Python possui uma vasta coleção de\n",
        "        bibliotecas para diversas áreas, como NumPy para computação\n",
        "        numérica, Pandas para análise de dados e Matplotlib para\n",
        "        visualização de dados.\"\"\"\n",
        "\n",
        "    vt6 = \"\"\"Em resumo, Python é uma linguagem poderosa e versátil, ideal\n",
        "        tanto para iniciantes quanto para programadores experientes.\n",
        "        Sua simplicidade, grande comunidade e ampla gama de aplicações\n",
        "        o tornam uma excelente escolha para qualquer projeto.\"\"\"\n",
        "\n",
        "    vantagens = [vt1, vt2, vt3, vt4, vt5, vt6]\n",
        "    print(\"Vantagens:\")\n",
        "    for i in range(len(vantagens)):\n",
        "        print(i+1, \"-\", vantagens[i])\n",
        "\n",
        "\n",
        "def menu():\n",
        "    time.sleep(6)\n",
        "    clear_output()\n",
        "    print(\"Lista de funções: \")\n",
        "    print(\"1 - Somar\")\n",
        "    print(\"2 - Subtrair\")\n",
        "    print(\"3 - Dividir\")\n",
        "    print(\"4 - Multiplicar\")\n",
        "    print(\"5 - Listar\")\n",
        "    print(\"6 - Sair\")\n",
        "    resposta = int(input(\"Digite a opção desejada: \"))\n",
        "    return resposta\n",
        "\n",
        "\n",
        "resposta = menu()\n",
        "while True:\n",
        "    if resposta == 1:\n",
        "        somar()\n",
        "        resposta = menu()\n",
        "    elif resposta == 2:\n",
        "        subtrair()\n",
        "        resposta = menu()\n",
        "    elif resposta == 3:\n",
        "        dividir()\n",
        "        resposta = menu()\n",
        "    elif resposta == 4:\n",
        "        multiplicar()\n",
        "        resposta = menu()\n",
        "    elif resposta == 5:\n",
        "        listar()\n",
        "        resposta = menu()\n",
        "    elif resposta == 6:\n",
        "        print(\"Saindo...\")\n",
        "        time.sleep(3)\n",
        "        clear_output()\n",
        "        break\n",
        "    else:\n",
        "        print(\"Opção não válida...\")\n",
        "        time.sleep(0.5)\n",
        "        resposta = menu()\n"
      ]
    }
  ],
  "metadata": {
    "colab": {
      "collapsed_sections": [
        "yyde7Ju_dZZL",
        "-clsXDG6eFA3",
        "C0KUs9EcBOjK",
        "WaZyu0kELd4Z",
        "pKbV1cRjjpDU",
        "LznsvlvGJyXS",
        "WC8ILFkiEWDK",
        "y131ymNWywF4",
        "C6PPnrt_cSC5",
        "2lFEliM3jeBT"
      ],
      "provenance": [],
      "authorship_tag": "ABX9TyN1+anfsyC9IA1KxCtfP/ZX",
      "include_colab_link": true
    },
    "kernelspec": {
      "display_name": "Python 3",
      "name": "python3"
    },
    "language_info": {
      "name": "python"
    }
  },
  "nbformat": 4,
  "nbformat_minor": 0
}